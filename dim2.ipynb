{
 "cells": [
  {
   "cell_type": "code",
   "execution_count": 19,
   "metadata": {},
   "outputs": [],
   "source": [
    "import os \n",
    "import sys\n",
    "import numpy as np\n",
    "from scr.lattice import Lattice\n",
    "from scr.random_walk import RandomWalk\n",
    "from scr.simulation import Simulation\n",
    "from scr.utils import make_video\n",
    "from tqdm import tqdm "
   ]
  },
  {
   "cell_type": "markdown",
   "metadata": {},
   "source": [
    "## Dimension 2"
   ]
  },
  {
   "cell_type": "code",
   "execution_count": 20,
   "metadata": {},
   "outputs": [],
   "source": [
    "simu_name = \"plot_dim2\"\n",
    "os.mkdir(simu_name)\n",
    "os.mkdir(simu_name + \"/frames\")"
   ]
  },
  {
   "cell_type": "markdown",
   "metadata": {},
   "source": [
    "### Initialize"
   ]
  },
  {
   "cell_type": "code",
   "execution_count": 21,
   "metadata": {},
   "outputs": [
    {
     "data": {
      "image/png": "[encoded data removed]",
      "text/plain": [
       "<Figure size 800x800 with 3 Axes>"
      ]
     },
     "metadata": {},
     "output_type": "display_data"
    }
   ],
   "source": [
    "L = 134\n",
    "lat = Lattice(dim=2,L=L)\n",
    "rw = RandomWalk(x=np.array([[L/2,L/2]]))\n",
    "simu = Simulation(rw,lat,N_traj_plot=0)\n",
    "t_iter = 0"
   ]
  },
  {
   "cell_type": "markdown",
   "metadata": {},
   "source": [
    "### Step 1: Show mechanism"
   ]
  },
  {
   "cell_type": "code",
   "execution_count": 22,
   "metadata": {},
   "outputs": [
    {
     "name": "stderr",
     "output_type": "stream",
     "text": [
      "100%|██████████| 80/80 [00:03<00:00, 24.88it/s]\n"
     ]
    },
    {
     "data": {
      "text/plain": [
       "[None]"
      ]
     },
     "execution_count": 22,
     "metadata": {},
     "output_type": "execute_result"
    }
   ],
   "source": [
    "simu.lat.set_title(\"Close look\")\n",
    "simu.lat.set_zoom(10)\n",
    "simu.lat.fig.savefig(simu_name + \"/frames/\" + f\"t_{t_iter}.png\")\n",
    "\n",
    "simu.N_nbgh_plot = 1\n",
    "# simu.N_traj_plot = 1\n",
    "# simu.trajs_plot[0].set(alpha=0.0)\n",
    "\n",
    "arrow_east = simu.lat.ax.arrow(simu.rw.x[0,0]+0.1,simu.rw.x[0,1],1.0,0.0,color='k',length_includes_head=True,width=0.08,head_length=0.24)\n",
    "arrow_north = simu.lat.ax.arrow(simu.rw.x[0,0],simu.rw.x[0,1]+0.1,0.0,1.0,color='k',length_includes_head=True,width=0.08,head_length=0.24)\n",
    "arrow_west = simu.lat.ax.arrow(simu.rw.x[0,0]-0.1,simu.rw.x[0,1],-1.0,0.0,color='k',length_includes_head=True,width=0.08,head_length=0.24)\n",
    "arrow_south = simu.lat.ax.arrow(simu.rw.x[0,0],simu.rw.x[0,1]-0.1,0.0,-1.0,color='k',length_includes_head=True,width=0.08,head_length=0.24)\n",
    "\n",
    "simu.lat.fig\n",
    "\n",
    "for _ in tqdm(range(80)):\n",
    "    t_iter +=1\n",
    "    simu.lat.fig.savefig(simu_name + \"/frames/\" + f\"t_{t_iter}.png\")\n",
    "    \n",
    "arrow_east.remove()\n",
    "arrow_north.remove()\n",
    "arrow_west.remove()\n",
    "arrow_south.remove()\n",
    "\n",
    "simu.N_nbgh_plot = 0\n",
    "simu.extra[\"nbgh\"].set(alpha=0.0)"
   ]
  },
  {
   "cell_type": "markdown",
   "metadata": {},
   "source": [
    "### Step 2: Run simulation"
   ]
  },
  {
   "cell_type": "code",
   "execution_count": 23,
   "metadata": {},
   "outputs": [
    {
     "name": "stderr",
     "output_type": "stream",
     "text": [
      "100%|██████████| 250/250 [00:09<00:00, 25.21it/s]\n"
     ]
    }
   ],
   "source": [
    "simu.lat.set_title(\"Run the simulation\")\n",
    "\n",
    "simu.rw.rate = 3.0\n",
    "\n",
    "for _ in tqdm(range(250)):\n",
    "    simu.update()\n",
    "    t_iter +=1\n",
    "    simu.lat.fig.savefig(simu_name + \"/frames/\" + f\"t_{t_iter}.png\")"
   ]
  },
  {
   "cell_type": "markdown",
   "metadata": {},
   "source": [
    "### Step 3: Pause: show trajectory"
   ]
  },
  {
   "cell_type": "code",
   "execution_count": 24,
   "metadata": {},
   "outputs": [
    {
     "name": "stderr",
     "output_type": "stream",
     "text": [
      "100%|██████████| 40/40 [00:01<00:00, 25.41it/s]\n",
      "100%|██████████| 250/250 [00:10<00:00, 24.97it/s]\n"
     ]
    }
   ],
   "source": [
    "simu.lat.set_title(\"Now show the trajectory\")\n",
    "\n",
    "# simu.trajs_plot[0].set(alpha=1.0)\n",
    "simu.N_traj_plot = 1\n",
    "simu.trajs_plot = simu._Simulation__plot_traj()\n",
    "simu.traj = [simu.rw.x.copy()]\n",
    "    \n",
    "for _ in tqdm(range(40)):\n",
    "    simu.lat.fig.savefig(simu_name + \"/frames/\" + f\"t_{t_iter}.png\")\n",
    "    t_iter += 1\n",
    "    \n",
    "for _ in tqdm(range(250)):\n",
    "    simu.update()\n",
    "    simu.lat.fig.savefig(simu_name + \"/frames/\" + f\"t_{t_iter}.png\")\n",
    "    t_iter += 1"
   ]
  },
  {
   "cell_type": "markdown",
   "metadata": {},
   "source": [
    "### Step 4: Pause: dezoom"
   ]
  },
  {
   "cell_type": "code",
   "execution_count": 25,
   "metadata": {},
   "outputs": [
    {
     "name": "stderr",
     "output_type": "stream",
     "text": [
      "100%|██████████| 124/124 [00:05<00:00, 23.44it/s]\n",
      "100%|██████████| 60/60 [00:02<00:00, 22.23it/s]\n"
     ]
    }
   ],
   "source": [
    "simu.lat.set_title(\"Pause: zoom out\")\n",
    "\n",
    "lw = 1.0\n",
    "for k in tqdm(range(L-10)):\n",
    "    simu.lat.set_zoom(10+k)\n",
    "    simu.lat.set_lines_param(linewidth=lw/(k+1))\n",
    "    simu.lat.fig.savefig(simu_name + \"/frames/\" + f\"t_{t_iter}.png\")\n",
    "    t_iter += 1\n",
    "    \n",
    "for _ in tqdm(range(60)):\n",
    "    simu.lat.fig.savefig(simu_name + \"/frames/\" + f\"t_{t_iter}.png\")\n",
    "    t_iter += 1"
   ]
  },
  {
   "cell_type": "markdown",
   "metadata": {},
   "source": [
    "### Step 5: Speed up and run the simulation"
   ]
  },
  {
   "cell_type": "code",
   "execution_count": 26,
   "metadata": {},
   "outputs": [
    {
     "name": "stderr",
     "output_type": "stream",
     "text": [
      "100%|██████████| 10000/10000 [00:32<00:00, 310.80it/s]\n"
     ]
    }
   ],
   "source": [
    "simu.lat.set_title(\"Speed up\")\n",
    "\n",
    "simu.rw.rate = 30.0\n",
    "simu.trajs_plot[0].set(linewidth=1.6)\n",
    "for k in tqdm(range(10000)):\n",
    "    simu.update(update_nbgh=True,update_traj=(k%15==0))\n",
    "    if k%15==0:\n",
    "        simu.lat.fig.savefig(simu_name + \"/frames/\" + f\"t_{t_iter}.png\")\n",
    "        t_iter +=1"
   ]
  },
  {
   "cell_type": "markdown",
   "metadata": {},
   "source": [
    "### Final step"
   ]
  },
  {
   "cell_type": "code",
   "execution_count": 27,
   "metadata": {},
   "outputs": [],
   "source": [
    "make_video(simu_name=simu_name,video_name=simu_name)"
   ]
  }
 ],
 "metadata": {
  "kernelspec": {
   "display_name": "202302",
   "language": "python",
   "name": "python3"
  },
  "language_info": {
   "codemirror_mode": {
    "name": "ipython",
    "version": 3
   },
   "file_extension": ".py",
   "mimetype": "text/x-python",
   "name": "python",
   "nbconvert_exporter": "python",
   "pygments_lexer": "ipython3",
   "version": "3.9.16"
  }
 },
 "nbformat": 4,
 "nbformat_minor": 2
}
