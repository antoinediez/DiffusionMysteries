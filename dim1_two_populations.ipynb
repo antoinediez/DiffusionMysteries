{
 "cells": [
  {
   "cell_type": "code",
   "execution_count": null,
   "metadata": {},
   "outputs": [],
   "source": [
    "import os \n",
    "import sys\n",
    "import numpy as np\n",
    "from scr.lattice import Lattice\n",
    "from scr.random_walk import RandomWalk\n",
    "from scr.simulation import Simulation\n",
    "from scr.utils import make_video\n",
    "from tqdm import tqdm \n",
    "from matplotlib import pyplot as plt"
   ]
  },
  {
   "cell_type": "markdown",
   "metadata": {},
   "source": [
    "## Dimension 1 with two populations"
   ]
  },
  {
   "cell_type": "code",
   "execution_count": null,
   "metadata": {},
   "outputs": [],
   "source": [
    "simu_name = \"plot_dim1_two_populations\"\n",
    "os.mkdir(simu_name)\n",
    "os.mkdir(simu_name + \"/frames\")"
   ]
  },
  {
   "cell_type": "markdown",
   "metadata": {},
   "source": [
    "### Initialize"
   ]
  },
  {
   "cell_type": "code",
   "execution_count": null,
   "metadata": {},
   "outputs": [],
   "source": [
    "\"\"\"Slow particles\"\"\"\n",
    "N3 = 100000\n",
    "L3 = 200\n",
    "lat3 = Lattice(dim=1,L=L3)\n",
    "rw3 = RandomWalk(x=np.floor(L3/2 + 2*(np.random.rand(N3)-0.5)*L3/14) % L3,compute_y=False,bound=L3)\n",
    "simu3 = Simulation(rw3,lat3,N_nbgh_plot=0,N_traj_plot=0)\n",
    "simu3.lat.set_height(max(1.05*simu3.histo.get_data()[0].max(),simu3.lat.ax.get_ylim()[1]))\n",
    "simu3.lat.ax.set_xlim(-0.5,L3-0.5)\n",
    "simu3.lat.set_title(\"Two populations with many particles\")\n",
    "\n",
    "\"\"\"Fast particles\"\"\"\n",
    "N3 = 100000\n",
    "L3 = 200\n",
    "rw4 = RandomWalk(x=np.floor(L3/2 + (2*(np.random.rand(N3)-0.5)+1.5)*L3/14) % L3,compute_y=False,bound=L3)\n",
    "simu4 = Simulation(rw4,lat3,N_nbgh_plot=0,N_traj_plot=0)\n",
    "simu4.histo.set(facecolor=\"tab:blue\",alpha=0.5)\n",
    "\n",
    "simu4.histo.set(facecolor=\"tab:blue\",alpha=0.5)\n",
    "simu3.lat.ax.add_artist(simu4.histo)\n",
    "\n",
    "simu3.rw.dt = 0.00005\n",
    "simu4.rw.dt = 0.00005"
   ]
  },
  {
   "cell_type": "markdown",
   "metadata": {},
   "source": [
    "### Speed parameters"
   ]
  },
  {
   "cell_type": "code",
   "execution_count": null,
   "metadata": {},
   "outputs": [],
   "source": [
    "base_rate = 5.0\n",
    "\n",
    "simu3.rw.rate = base_rate * 100\n",
    "simu3.clock_rate = 1.0 * 42\n",
    "\n",
    "simu4.rw.rate = base_rate * 600"
   ]
  },
  {
   "cell_type": "markdown",
   "metadata": {},
   "source": [
    "### Run simulation"
   ]
  },
  {
   "cell_type": "code",
   "execution_count": null,
   "metadata": {},
   "outputs": [],
   "source": [
    "t_iter = 0\n",
    "\n",
    "for k in tqdm(range(30000)):\n",
    "    simu3.update()\n",
    "    simu4.update()\n",
    "    if k%35==0:\n",
    "        simu3.lat.fig.savefig(simu_name + \"/frames/\" + f\"t_{t_iter}.png\")\n",
    "        t_iter +=1"
   ]
  },
  {
   "cell_type": "markdown",
   "metadata": {},
   "source": [
    "### Final step"
   ]
  },
  {
   "cell_type": "code",
   "execution_count": null,
   "metadata": {},
   "outputs": [],
   "source": [
    "make_video(simu_name=simu_name,video_name=simu_name)"
   ]
  }
 ],
 "metadata": {
  "kernelspec": {
   "display_name": "202302",
   "language": "python",
   "name": "python3"
  },
  "language_info": {
   "codemirror_mode": {
    "name": "ipython",
    "version": 3
   },
   "file_extension": ".py",
   "mimetype": "text/x-python",
   "name": "python",
   "nbconvert_exporter": "python",
   "pygments_lexer": "ipython3",
   "version": "3.9.16"
  }
 },
 "nbformat": 4,
 "nbformat_minor": 2
}
